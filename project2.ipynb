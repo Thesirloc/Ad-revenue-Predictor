{
 "cells": [
  {
   "cell_type": "code",
   "execution_count": 74,
   "id": "e087232c",
   "metadata": {},
   "outputs": [],
   "source": [
    "import pandas as pd\n",
    "import numpy as np\n",
    "from sklearn.metrics import mean_squared_error"
   ]
  },
  {
   "cell_type": "code",
   "execution_count": 75,
   "id": "7f882b50",
   "metadata": {},
   "outputs": [],
   "source": [
    "train = pd.read_csv('Train_Data.csv')"
   ]
  },
  {
   "cell_type": "code",
   "execution_count": 76,
   "id": "01fb2248",
   "metadata": {
    "scrolled": true
   },
   "outputs": [
    {
     "data": {
      "text/html": [
       "<div>\n",
       "<style scoped>\n",
       "    .dataframe tbody tr th:only-of-type {\n",
       "        vertical-align: middle;\n",
       "    }\n",
       "\n",
       "    .dataframe tbody tr th {\n",
       "        vertical-align: top;\n",
       "    }\n",
       "\n",
       "    .dataframe thead th {\n",
       "        text-align: right;\n",
       "    }\n",
       "</style>\n",
       "<table border=\"1\" class=\"dataframe\">\n",
       "  <thead>\n",
       "    <tr style=\"text-align: right;\">\n",
       "      <th></th>\n",
       "      <th>date</th>\n",
       "      <th>campaign</th>\n",
       "      <th>adgroup</th>\n",
       "      <th>ad</th>\n",
       "      <th>impressions</th>\n",
       "      <th>clicks</th>\n",
       "      <th>cost</th>\n",
       "      <th>conversions</th>\n",
       "      <th>revenue</th>\n",
       "    </tr>\n",
       "  </thead>\n",
       "  <tbody>\n",
       "    <tr>\n",
       "      <th>0</th>\n",
       "      <td>01-08-2020</td>\n",
       "      <td>campaign 1</td>\n",
       "      <td>adgroup 1</td>\n",
       "      <td>ad 1</td>\n",
       "      <td>24</td>\n",
       "      <td>6</td>\n",
       "      <td>0.08</td>\n",
       "      <td>0</td>\n",
       "      <td>0.00</td>\n",
       "    </tr>\n",
       "    <tr>\n",
       "      <th>1</th>\n",
       "      <td>01-08-2020</td>\n",
       "      <td>campaign 1</td>\n",
       "      <td>adgroup 2</td>\n",
       "      <td>ad 1</td>\n",
       "      <td>1</td>\n",
       "      <td>0</td>\n",
       "      <td>0.00</td>\n",
       "      <td>0</td>\n",
       "      <td>0.00</td>\n",
       "    </tr>\n",
       "    <tr>\n",
       "      <th>2</th>\n",
       "      <td>01-08-2020</td>\n",
       "      <td>campaign 1</td>\n",
       "      <td>adgroup 3</td>\n",
       "      <td>ad 1</td>\n",
       "      <td>13</td>\n",
       "      <td>4</td>\n",
       "      <td>0.04</td>\n",
       "      <td>0</td>\n",
       "      <td>0.00</td>\n",
       "    </tr>\n",
       "    <tr>\n",
       "      <th>3</th>\n",
       "      <td>01-08-2020</td>\n",
       "      <td>campaign 1</td>\n",
       "      <td>adgroup 4</td>\n",
       "      <td>ad 1</td>\n",
       "      <td>5</td>\n",
       "      <td>4</td>\n",
       "      <td>0.08</td>\n",
       "      <td>0</td>\n",
       "      <td>0.00</td>\n",
       "    </tr>\n",
       "    <tr>\n",
       "      <th>4</th>\n",
       "      <td>01-08-2020</td>\n",
       "      <td>campaign 1</td>\n",
       "      <td>adgroup 1</td>\n",
       "      <td>ad 2</td>\n",
       "      <td>247</td>\n",
       "      <td>126</td>\n",
       "      <td>1.29</td>\n",
       "      <td>4</td>\n",
       "      <td>925.71</td>\n",
       "    </tr>\n",
       "  </tbody>\n",
       "</table>\n",
       "</div>"
      ],
      "text/plain": [
       "         date    campaign    adgroup    ad  impressions  clicks  cost  \\\n",
       "0  01-08-2020  campaign 1  adgroup 1  ad 1           24       6  0.08   \n",
       "1  01-08-2020  campaign 1  adgroup 2  ad 1            1       0  0.00   \n",
       "2  01-08-2020  campaign 1  adgroup 3  ad 1           13       4  0.04   \n",
       "3  01-08-2020  campaign 1  adgroup 4  ad 1            5       4  0.08   \n",
       "4  01-08-2020  campaign 1  adgroup 1  ad 2          247     126  1.29   \n",
       "\n",
       "   conversions  revenue  \n",
       "0            0     0.00  \n",
       "1            0     0.00  \n",
       "2            0     0.00  \n",
       "3            0     0.00  \n",
       "4            4   925.71  "
      ]
     },
     "execution_count": 76,
     "metadata": {},
     "output_type": "execute_result"
    }
   ],
   "source": [
    "train.head()"
   ]
  },
  {
   "cell_type": "code",
   "execution_count": 77,
   "id": "7b75bdc0",
   "metadata": {},
   "outputs": [],
   "source": [
    "train = train.drop(columns = ['date', 'campaign'])\n",
    "train.ad = train.ad.str.replace(\"ad \", \"\")\n",
    "train.adgroup = train.adgroup.str.replace(\"adgroup \", \"\")\n",
    "train.ad = train.ad.astype('int')\n",
    "train.adgroup = train.adgroup.astype('int')"
   ]
  },
  {
   "cell_type": "code",
   "execution_count": 78,
   "id": "cee57987",
   "metadata": {},
   "outputs": [],
   "source": [
    "y = train.revenue\n",
    "train = train.drop(columns='revenue')"
   ]
  },
  {
   "cell_type": "code",
   "execution_count": 42,
   "id": "05cd5412",
   "metadata": {},
   "outputs": [
    {
     "data": {
      "text/html": [
       "<div>\n",
       "<style scoped>\n",
       "    .dataframe tbody tr th:only-of-type {\n",
       "        vertical-align: middle;\n",
       "    }\n",
       "\n",
       "    .dataframe tbody tr th {\n",
       "        vertical-align: top;\n",
       "    }\n",
       "\n",
       "    .dataframe thead th {\n",
       "        text-align: right;\n",
       "    }\n",
       "</style>\n",
       "<table border=\"1\" class=\"dataframe\">\n",
       "  <thead>\n",
       "    <tr style=\"text-align: right;\">\n",
       "      <th></th>\n",
       "      <th>adgroup</th>\n",
       "      <th>ad</th>\n",
       "      <th>impressions</th>\n",
       "      <th>clicks</th>\n",
       "      <th>cost</th>\n",
       "      <th>conversions</th>\n",
       "    </tr>\n",
       "  </thead>\n",
       "  <tbody>\n",
       "    <tr>\n",
       "      <th>0</th>\n",
       "      <td>1</td>\n",
       "      <td>1</td>\n",
       "      <td>24</td>\n",
       "      <td>6</td>\n",
       "      <td>0.08</td>\n",
       "      <td>0</td>\n",
       "    </tr>\n",
       "    <tr>\n",
       "      <th>1</th>\n",
       "      <td>2</td>\n",
       "      <td>1</td>\n",
       "      <td>1</td>\n",
       "      <td>0</td>\n",
       "      <td>0.00</td>\n",
       "      <td>0</td>\n",
       "    </tr>\n",
       "    <tr>\n",
       "      <th>2</th>\n",
       "      <td>3</td>\n",
       "      <td>1</td>\n",
       "      <td>13</td>\n",
       "      <td>4</td>\n",
       "      <td>0.04</td>\n",
       "      <td>0</td>\n",
       "    </tr>\n",
       "    <tr>\n",
       "      <th>3</th>\n",
       "      <td>4</td>\n",
       "      <td>1</td>\n",
       "      <td>5</td>\n",
       "      <td>4</td>\n",
       "      <td>0.08</td>\n",
       "      <td>0</td>\n",
       "    </tr>\n",
       "    <tr>\n",
       "      <th>4</th>\n",
       "      <td>1</td>\n",
       "      <td>2</td>\n",
       "      <td>247</td>\n",
       "      <td>126</td>\n",
       "      <td>1.29</td>\n",
       "      <td>4</td>\n",
       "    </tr>\n",
       "  </tbody>\n",
       "</table>\n",
       "</div>"
      ],
      "text/plain": [
       "   adgroup  ad  impressions  clicks  cost  conversions\n",
       "0        1   1           24       6  0.08            0\n",
       "1        2   1            1       0  0.00            0\n",
       "2        3   1           13       4  0.04            0\n",
       "3        4   1            5       4  0.08            0\n",
       "4        1   2          247     126  1.29            4"
      ]
     },
     "execution_count": 42,
     "metadata": {},
     "output_type": "execute_result"
    }
   ],
   "source": [
    "train.head()"
   ]
  },
  {
   "cell_type": "code",
   "execution_count": null,
   "id": "817507e6",
   "metadata": {},
   "outputs": [],
   "source": []
  },
  {
   "cell_type": "code",
   "execution_count": 79,
   "id": "39a0f058",
   "metadata": {},
   "outputs": [],
   "source": [
    "from sklearn.linear_model import LinearRegression"
   ]
  },
  {
   "cell_type": "code",
   "execution_count": 44,
   "id": "a15e2f3f",
   "metadata": {},
   "outputs": [],
   "source": [
    "reg = LinearRegression().fit(train,y)"
   ]
  },
  {
   "cell_type": "code",
   "execution_count": 58,
   "id": "67e442a9",
   "metadata": {},
   "outputs": [
    {
     "data": {
      "text/plain": [
       "0.9431113855333698"
      ]
     },
     "execution_count": 58,
     "metadata": {},
     "output_type": "execute_result"
    }
   ],
   "source": [
    "reg.score(test_X,test_y)"
   ]
  },
  {
   "cell_type": "code",
   "execution_count": 46,
   "id": "4cd4010a",
   "metadata": {},
   "outputs": [
    {
     "data": {
      "text/plain": [
       "0.9380865720574157"
      ]
     },
     "execution_count": 46,
     "metadata": {},
     "output_type": "execute_result"
    }
   ],
   "source": [
    "reg.score(train_X,train_y)"
   ]
  },
  {
   "cell_type": "code",
   "execution_count": 50,
   "id": "664b0ad5",
   "metadata": {},
   "outputs": [
    {
     "name": "stdout",
     "output_type": "stream",
     "text": [
      "268.2718751587716\n"
     ]
    }
   ],
   "source": [
    "pred_train= reg.predict(train)\n",
    "print(np.sqrt(mean_squared_error(y,pred_train)))"
   ]
  },
  {
   "cell_type": "code",
   "execution_count": 80,
   "id": "62f33f74",
   "metadata": {},
   "outputs": [],
   "source": [
    "test = pd.read_csv('Test_Data.csv')\n",
    "test = test.drop(columns = ['date', 'campaign'])\n",
    "test.ad = test.ad.str.replace(\"ad \", \"\")\n",
    "test.adgroup = test.adgroup.str.replace(\"adgroup \", \"\")\n",
    "test.ad = test.ad.astype('int')\n",
    "test.adgroup = test.adgroup.astype('int')"
   ]
  },
  {
   "cell_type": "code",
   "execution_count": 54,
   "id": "71445013",
   "metadata": {},
   "outputs": [],
   "source": [
    "revenue = reg.predict(test)"
   ]
  },
  {
   "cell_type": "code",
   "execution_count": 55,
   "id": "0495c5e9",
   "metadata": {},
   "outputs": [],
   "source": [
    "res = pd.DataFrame(revenue) #preditcions are nothing but the final predictions of your model on input features of your new unseen test data\n",
    "res.index = test.index # its important for comparison. Here \"test_new\" is your new test dataset\n",
    "res.columns = [\"revenue\"]\n",
    "res.to_csv(\"revenue.csv\", index = False)      # the csv file will be saved locally on the same location where this notebook is located."
   ]
  },
  {
   "cell_type": "code",
   "execution_count": 81,
   "id": "8c652994",
   "metadata": {},
   "outputs": [
    {
     "data": {
      "text/plain": [
       "Lasso(alpha=50, max_iter=100, tol=0.1)"
      ]
     },
     "execution_count": 81,
     "metadata": {},
     "output_type": "execute_result"
    }
   ],
   "source": [
    "from sklearn import linear_model\n",
    "lassoreg = linear_model.Lasso(alpha=50,max_iter=100,tol=0.1)\n",
    "lassoreg.fit(train,y)"
   ]
  },
  {
   "cell_type": "code",
   "execution_count": 82,
   "id": "402094fd",
   "metadata": {
    "scrolled": true
   },
   "outputs": [
    {
     "data": {
      "text/plain": [
       "0.9285247185900172"
      ]
     },
     "execution_count": 82,
     "metadata": {},
     "output_type": "execute_result"
    }
   ],
   "source": [
    "lassoreg.score(test_X,test_y)"
   ]
  },
  {
   "cell_type": "code",
   "execution_count": 90,
   "id": "f656a600",
   "metadata": {},
   "outputs": [],
   "source": [
    "revenue = lassoreg.predict(test)"
   ]
  },
  {
   "cell_type": "code",
   "execution_count": 91,
   "id": "a9daeab7",
   "metadata": {},
   "outputs": [],
   "source": [
    "revenue[revenue<0] = 0"
   ]
  },
  {
   "cell_type": "code",
   "execution_count": 92,
   "id": "80e0095d",
   "metadata": {
    "scrolled": true
   },
   "outputs": [
    {
     "data": {
      "text/plain": [
       "array([ 113.80337613,    0.        ,    0.        ,    0.        ,\n",
       "          0.        ,    0.        ,   91.26078112,    0.        ,\n",
       "         90.20688107,    0.        ,  512.46464552,    0.        ,\n",
       "          0.        ,  226.8078379 ,    0.        ,  137.60955165,\n",
       "          0.        ,  114.74086656,    0.        ,   82.34213081,\n",
       "          0.        ,    0.        ,    0.        ,  442.04433878,\n",
       "          0.        ,    0.        ,  655.78640058,   63.23427438,\n",
       "          0.        ,    0.        ,  441.50565119,    0.        ,\n",
       "        912.94456516,  297.76834438,   99.48529079,    0.        ,\n",
       "        109.45576835,    0.        ,    0.        ,    0.        ,\n",
       "          0.        ,    0.        ,    0.        ,    0.        ,\n",
       "          0.        ,    0.        ,    0.        ,    0.        ,\n",
       "          0.        ,    0.        ,    0.        ,    0.        ,\n",
       "          0.        ,  233.940969  ,  164.96466077,   98.76720168,\n",
       "          0.        ,    0.        ,    0.        ,  959.83635856,\n",
       "          0.        ,  289.35056678,    0.        ,  303.7564895 ,\n",
       "          0.        ,    0.        ,  425.94709441,  145.63418414,\n",
       "          0.        ,    0.        ,  271.17269452,    0.        ,\n",
       "          0.        ,    0.        ,   95.89739621,   96.35630845,\n",
       "        629.25654753,    0.        ,    0.        ,    0.        ,\n",
       "        475.84712526,  102.46052681,    0.        ,   66.53770295,\n",
       "          0.        ,    0.        ,  638.48627541, 1229.18444484,\n",
       "          0.        ,  274.04482671,  281.46881367,  265.52161856,\n",
       "          0.        ,  622.67363885,   84.85243081,    0.        ,\n",
       "          0.        ,    0.        ,    0.        ,    0.        ,\n",
       "        100.25609517,    0.        ,    0.        ,   41.7922709 ,\n",
       "          0.        , 2431.49269876,    0.        ,  283.95460456,\n",
       "          0.        ,  140.90902922,    0.        ,  604.17891917,\n",
       "          0.        ,  266.72926492,    0.        , 2163.26378925,\n",
       "          0.        , 2508.7682725 ,  466.83447198,   97.86357514,\n",
       "          0.        ,    0.        ,  491.09645299,    0.        ,\n",
       "          0.        ,    0.        ,  383.15378913,    0.        ,\n",
       "         93.97236317,   44.37601577,    0.        ,    0.        ,\n",
       "          0.        ,    0.        ,  742.43128028,    0.        ,\n",
       "          0.        ,    0.        ,  458.24446273,    0.        ,\n",
       "        121.66420507,    0.        ,    0.        ,    0.        ,\n",
       "         98.17106778,    0.        ,    0.        ,  295.37397582,\n",
       "        465.28790793,    0.        ,    0.        ,    0.        ,\n",
       "        642.82083133,    0.        ,  269.46820889,    0.        ,\n",
       "        818.57030833,    0.        ,    0.        ,    0.        ,\n",
       "         51.28282963,    0.        ,    0.        ,    0.        ,\n",
       "        274.07488141,    0.        ,  250.928422  ,    0.        ,\n",
       "          0.        ,    0.        ,    0.        ,    0.        ,\n",
       "          0.        ,  114.4951076 ,    0.        ,    0.        ,\n",
       "          0.        ,    0.        ,  273.5331992 ,  103.87034739,\n",
       "          0.        ,    0.        ,    0.        ,  159.37175176,\n",
       "          0.        ,    0.        ,   60.23119825,    0.        ,\n",
       "         86.64870482,    0.        ,    0.        ,  118.66445995,\n",
       "          0.        ,    0.        ,    0.        ,    0.        ,\n",
       "          0.        ,    0.        ,    0.        ,   95.65348579,\n",
       "         97.89166918,    0.        ,  241.98618928,    0.        ,\n",
       "          0.        ,    0.        ,  163.38224248,    0.        ,\n",
       "          0.        ,  380.86784574,    0.        ,    0.        ,\n",
       "          0.        ,   84.55835608,  280.13008156,    0.        ,\n",
       "          0.        ,    0.        ,    0.        ,  263.76315944,\n",
       "          0.        ,    0.        ,    0.        ,    0.        ,\n",
       "          0.        ,  800.33036601,    0.        ,    0.        ,\n",
       "        173.01309992,    0.        ,  244.05684238,    0.        ,\n",
       "          0.        ,    0.        ,    0.        ,    0.        ,\n",
       "          0.        ,  132.24375626,    0.        ,    0.        ,\n",
       "          0.        ,    0.        ,    0.        ,    0.        ,\n",
       "          0.        ,   91.03930701,    0.        ,    0.        ,\n",
       "          0.        ,    0.        ,  443.85898599,  375.94349374,\n",
       "          0.        ,  389.60580177,    0.        ,   90.3568182 ,\n",
       "          0.        ,    0.        ,  114.34864328,   99.58458543,\n",
       "          0.        ,  308.02180549,    0.        ,    0.        ,\n",
       "          0.        ,    0.        ,    0.        ,    0.        ,\n",
       "          0.        ,    0.        ,  283.06428381,    0.        ,\n",
       "          0.        ,  610.43514744,    0.        ,    0.        ,\n",
       "          0.        ,  234.51418839,  118.81484558,    0.        ,\n",
       "          0.        ,    0.        ,    0.        ,    0.        ,\n",
       "        260.42216991,    0.        ,   93.44672743,    0.        ,\n",
       "          0.        ,    0.        ,    0.        ,  113.75805498,\n",
       "          0.        ,    0.        ,  104.72380963,    0.        ,\n",
       "          0.        ,   81.91512181,    0.        ,    0.        ,\n",
       "          0.        ,    0.        ,  684.25518277,    0.        ,\n",
       "          0.        ,    0.        ,  947.7651732 ,    0.        ,\n",
       "          0.        ,  271.33730778,  128.07244325,  121.48040405,\n",
       "          0.        ,    0.        ,    0.        ,    0.        ,\n",
       "          0.        ,  109.36930131])"
      ]
     },
     "execution_count": 92,
     "metadata": {},
     "output_type": "execute_result"
    }
   ],
   "source": []
  },
  {
   "cell_type": "code",
   "execution_count": 93,
   "id": "9ee63b20",
   "metadata": {},
   "outputs": [],
   "source": [
    "res = pd.DataFrame(revenue) #preditcions are nothing but the final predictions of your model on input features of your new unseen test data\n",
    "res.index = test.index # its important for comparison. Here \"test_new\" is your new test dataset\n",
    "res.columns = [\"revenue\"]\n",
    "res.to_csv(\"revenue.csv\", index = False)  "
   ]
  },
  {
   "cell_type": "code",
   "execution_count": 65,
   "id": "621c8f8d",
   "metadata": {},
   "outputs": [
    {
     "data": {
      "text/plain": [
       "Ridge(alpha=50, max_iter=100, tol=0.1)"
      ]
     },
     "execution_count": 65,
     "metadata": {},
     "output_type": "execute_result"
    }
   ],
   "source": [
    "from sklearn.linear_model import Ridge\n",
    "ridgereg = linear_model.Ridge(alpha=50,max_iter=100,tol=0.1)\n",
    "ridgereg.fit(train,y)"
   ]
  },
  {
   "cell_type": "code",
   "execution_count": 66,
   "id": "9cd683d0",
   "metadata": {},
   "outputs": [
    {
     "data": {
      "text/plain": [
       "0.9396037386419457"
      ]
     },
     "execution_count": 66,
     "metadata": {},
     "output_type": "execute_result"
    }
   ],
   "source": [
    "ridgereg.score(train,y)"
   ]
  },
  {
   "cell_type": "code",
   "execution_count": 67,
   "id": "49055ced",
   "metadata": {},
   "outputs": [],
   "source": [
    "revenue = ridgereg.predict(test)"
   ]
  },
  {
   "cell_type": "code",
   "execution_count": 68,
   "id": "447a8518",
   "metadata": {},
   "outputs": [],
   "source": [
    "res = pd.DataFrame(revenue) #preditcions are nothing but the final predictions of your model on input features of your new unseen test data\n",
    "res.index = test.index # its important for comparison. Here \"test_new\" is your new test dataset\n",
    "res.columns = [\"revenue\"]\n",
    "res.to_csv(\"revenue.csv\", index = False)  "
   ]
  },
  {
   "cell_type": "code",
   "execution_count": 69,
   "id": "4f837116",
   "metadata": {},
   "outputs": [],
   "source": [
    "train['CTR'] = train.clicks/train.impressions"
   ]
  },
  {
   "cell_type": "code",
   "execution_count": 71,
   "id": "a29ff325",
   "metadata": {},
   "outputs": [],
   "source": [
    "train['CPC'] = train.cost/train.clicks"
   ]
  },
  {
   "cell_type": "code",
   "execution_count": 72,
   "id": "fceb5bc3",
   "metadata": {},
   "outputs": [],
   "source": [
    "train['CPA'] = train.cost/train.conversions"
   ]
  },
  {
   "cell_type": "code",
   "execution_count": 73,
   "id": "903588fe",
   "metadata": {},
   "outputs": [
    {
     "data": {
      "text/html": [
       "<div>\n",
       "<style scoped>\n",
       "    .dataframe tbody tr th:only-of-type {\n",
       "        vertical-align: middle;\n",
       "    }\n",
       "\n",
       "    .dataframe tbody tr th {\n",
       "        vertical-align: top;\n",
       "    }\n",
       "\n",
       "    .dataframe thead th {\n",
       "        text-align: right;\n",
       "    }\n",
       "</style>\n",
       "<table border=\"1\" class=\"dataframe\">\n",
       "  <thead>\n",
       "    <tr style=\"text-align: right;\">\n",
       "      <th></th>\n",
       "      <th>adgroup</th>\n",
       "      <th>ad</th>\n",
       "      <th>impressions</th>\n",
       "      <th>clicks</th>\n",
       "      <th>cost</th>\n",
       "      <th>conversions</th>\n",
       "      <th>CTR</th>\n",
       "      <th>CPC</th>\n",
       "      <th>CPA</th>\n",
       "    </tr>\n",
       "  </thead>\n",
       "  <tbody>\n",
       "    <tr>\n",
       "      <th>0</th>\n",
       "      <td>1</td>\n",
       "      <td>1</td>\n",
       "      <td>24</td>\n",
       "      <td>6</td>\n",
       "      <td>0.08</td>\n",
       "      <td>0</td>\n",
       "      <td>0.250000</td>\n",
       "      <td>0.013333</td>\n",
       "      <td>inf</td>\n",
       "    </tr>\n",
       "    <tr>\n",
       "      <th>1</th>\n",
       "      <td>2</td>\n",
       "      <td>1</td>\n",
       "      <td>1</td>\n",
       "      <td>0</td>\n",
       "      <td>0.00</td>\n",
       "      <td>0</td>\n",
       "      <td>0.000000</td>\n",
       "      <td>NaN</td>\n",
       "      <td>NaN</td>\n",
       "    </tr>\n",
       "    <tr>\n",
       "      <th>2</th>\n",
       "      <td>3</td>\n",
       "      <td>1</td>\n",
       "      <td>13</td>\n",
       "      <td>4</td>\n",
       "      <td>0.04</td>\n",
       "      <td>0</td>\n",
       "      <td>0.307692</td>\n",
       "      <td>0.010000</td>\n",
       "      <td>inf</td>\n",
       "    </tr>\n",
       "    <tr>\n",
       "      <th>3</th>\n",
       "      <td>4</td>\n",
       "      <td>1</td>\n",
       "      <td>5</td>\n",
       "      <td>4</td>\n",
       "      <td>0.08</td>\n",
       "      <td>0</td>\n",
       "      <td>0.800000</td>\n",
       "      <td>0.020000</td>\n",
       "      <td>inf</td>\n",
       "    </tr>\n",
       "    <tr>\n",
       "      <th>4</th>\n",
       "      <td>1</td>\n",
       "      <td>2</td>\n",
       "      <td>247</td>\n",
       "      <td>126</td>\n",
       "      <td>1.29</td>\n",
       "      <td>4</td>\n",
       "      <td>0.510121</td>\n",
       "      <td>0.010238</td>\n",
       "      <td>0.3225</td>\n",
       "    </tr>\n",
       "  </tbody>\n",
       "</table>\n",
       "</div>"
      ],
      "text/plain": [
       "   adgroup  ad  impressions  clicks  cost  conversions       CTR       CPC  \\\n",
       "0        1   1           24       6  0.08            0  0.250000  0.013333   \n",
       "1        2   1            1       0  0.00            0  0.000000       NaN   \n",
       "2        3   1           13       4  0.04            0  0.307692  0.010000   \n",
       "3        4   1            5       4  0.08            0  0.800000  0.020000   \n",
       "4        1   2          247     126  1.29            4  0.510121  0.010238   \n",
       "\n",
       "      CPA  \n",
       "0     inf  \n",
       "1     NaN  \n",
       "2     inf  \n",
       "3     inf  \n",
       "4  0.3225  "
      ]
     },
     "execution_count": 73,
     "metadata": {},
     "output_type": "execute_result"
    }
   ],
   "source": []
  },
  {
   "cell_type": "code",
   "execution_count": null,
   "id": "73a19027",
   "metadata": {},
   "outputs": [],
   "source": []
  }
 ],
 "metadata": {
  "kernelspec": {
   "display_name": "Python 3",
   "language": "python",
   "name": "python3"
  },
  "language_info": {
   "codemirror_mode": {
    "name": "ipython",
    "version": 3
   },
   "file_extension": ".py",
   "mimetype": "text/x-python",
   "name": "python",
   "nbconvert_exporter": "python",
   "pygments_lexer": "ipython3",
   "version": "3.8.8"
  }
 },
 "nbformat": 4,
 "nbformat_minor": 5
}
